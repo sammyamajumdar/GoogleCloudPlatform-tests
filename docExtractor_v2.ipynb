{
  "nbformat": 4,
  "nbformat_minor": 0,
  "metadata": {
    "colab": {
      "provenance": [],
      "collapsed_sections": [],
      "authorship_tag": "ABX9TyOMNFpqhHcsXDTY8RE0fFah",
      "include_colab_link": true
    },
    "kernelspec": {
      "name": "python3",
      "display_name": "Python 3"
    },
    "language_info": {
      "name": "python"
    }
  },
  "cells": [
    {
      "cell_type": "markdown",
      "metadata": {
        "id": "view-in-github",
        "colab_type": "text"
      },
      "source": [
        "<a href=\"https://colab.research.google.com/github/sammyamajumdar/GoogleCloudPlatform-tests/blob/main/docExtractor_v2.ipynb\" target=\"_parent\"><img src=\"https://colab.research.google.com/assets/colab-badge.svg\" alt=\"Open In Colab\"/></a>"
      ]
    },
    {
      "cell_type": "code",
      "execution_count": null,
      "metadata": {
        "id": "KvxuOGuk89RU"
      },
      "outputs": [],
      "source": [
        "import os\n",
        "os.environ['GOOGLE_APPLICATION_CREDENTIALS'] = '/content/aerial-passage-363110-d2e4c5a5de14.json' # path to json key file"
      ]
    },
    {
      "cell_type": "code",
      "source": [
        "# Install client libraries\n",
        "!pip install google-cloud-storage\n",
        "!pip3 install --upgrade google-cloud-documentai\n",
        "!pip3 install --upgrade google-cloud-storage"
      ],
      "metadata": {
        "id": "9JJZbBov9Iur"
      },
      "execution_count": null,
      "outputs": []
    },
    {
      "cell_type": "code",
      "source": [
        "# imports\n",
        "import os\n",
        "from google.cloud import storage\n",
        "from google.api_core.client_options import ClientOptions\n",
        "from google.cloud import documentai_v1 as documentai\n",
        "from google.api_core.exceptions import FailedPrecondition\n",
        "import pandas as pd"
      ],
      "metadata": {
        "id": "v4I6ISRU9Wb7"
      },
      "execution_count": null,
      "outputs": []
    },
    {
      "cell_type": "code",
      "source": [
        "# constants\n",
        "PROJECT_ID = 'aerial-passage-363110'\n",
        "LOCATION = 'eu'\n",
        "MIME_TYPE = 'application/pdf'"
      ],
      "metadata": {
        "id": "FKk66MzX-OfB"
      },
      "execution_count": null,
      "outputs": []
    },
    {
      "cell_type": "markdown",
      "source": [
        "GOOGLE CLOUD STORAGE HELPER FUNCTIONS"
      ],
      "metadata": {
        "id": "Tquhnsy46arM"
      }
    },
    {
      "cell_type": "code",
      "source": [
        "## Create Google Cloud Storage Bucket\n",
        "storage_client = storage.Client()\n",
        "def create_bucket(BUCKET_NAME):\n",
        "    bucket = storage_client.bucket(BUCKET_NAME)\n",
        "    # standard frequency access class\n",
        "    bucket.storage_class = 'STANDARD'\n",
        "    # location 'EU'\n",
        "    bucket.location = 'EU'\n",
        "    # create bucket\n",
        "    bucket = storage_client.create_bucket(bucket)\n",
        "    # print details of buckets as a dict\n",
        "    print(vars(bucket))\n",
        "\n",
        "\n",
        "## Upload files to GCS\n",
        "def upload_file_to_bucket(blob_name, file_path, BUCKET_NAME):\n",
        "    try:\n",
        "        # Grab an existing bucket\n",
        "        bucket = storage_client.get_bucket(BUCKET_NAME)\n",
        "        # upload to bucket as a binary large object (blob)\n",
        "        blob = bucket.blob(blob_name)\n",
        "        blob.upload_from_filename(file_path) \n",
        "        return True\n",
        "    except Exception as e:\n",
        "        # print error if upload fails\n",
        "        print(e)\n",
        "        return False"
      ],
      "metadata": {
        "id": "V61K9pc36aDk"
      },
      "execution_count": null,
      "outputs": []
    },
    {
      "cell_type": "code",
      "source": [
        "create_bucket('tester-docai-bucket01')\n",
        "upload_file_to_bucket('passport_pdf_majumdar', '/content/my_PASSPORT.pdf', 'tester-docai-bucket01')"
      ],
      "metadata": {
        "colab": {
          "base_uri": "https://localhost:8080/"
        },
        "id": "ViDhJOVe8UC_",
        "outputId": "b51460b7-3544-48a1-f0e7-df4cb738b984"
      },
      "execution_count": null,
      "outputs": [
        {
          "output_type": "stream",
          "name": "stderr",
          "text": [
            "/usr/local/lib/python3.7/dist-packages/ipykernel_launcher.py:8: DeprecationWarning: Assignment to 'Bucket.location' is deprecated, as it is only valid before the bucket is created. Instead, pass the location to `Bucket.create`.\n",
            "  \n"
          ]
        },
        {
          "output_type": "stream",
          "name": "stdout",
          "text": [
            "{'name': 'tester-docai-bucket01', '_properties': {'kind': 'storage#bucket', 'selfLink': 'https://www.googleapis.com/storage/v1/b/tester-docai-bucket01', 'id': 'tester-docai-bucket01', 'name': 'tester-docai-bucket01', 'projectNumber': '621384936610', 'metageneration': '1', 'location': 'EU', 'storageClass': 'STANDARD', 'etag': 'CAE=', 'timeCreated': '2022-09-24T14:45:35.367Z', 'updated': '2022-09-24T14:45:35.367Z', 'iamConfiguration': {'bucketPolicyOnly': {'enabled': False}, 'uniformBucketLevelAccess': {'enabled': False}, 'publicAccessPrevention': 'inherited'}, 'locationType': 'multi-region', 'rpo': 'DEFAULT'}, '_changes': set(), '_client': <google.cloud.storage.client.Client object at 0x7fef9b6be950>, '_acl': <google.cloud.storage.acl.BucketACL object at 0x7fef9b6beb50>, '_default_object_acl': <google.cloud.storage.acl.DefaultObjectACL object at 0x7fef9b6bea90>, '_label_removals': set(), '_user_project': None}\n"
          ]
        },
        {
          "output_type": "execute_result",
          "data": {
            "text/plain": [
              "True"
            ]
          },
          "metadata": {},
          "execution_count": 10
        }
      ]
    },
    {
      "cell_type": "code",
      "source": [
        "GCS_INPUT_URI = 'gs://tester-docai-bucket01/passport_pdf_majumdar'"
      ],
      "metadata": {
        "id": "hwZ2U9PT-dfC"
      },
      "execution_count": null,
      "outputs": []
    },
    {
      "cell_type": "markdown",
      "source": [
        "DOCUMENT AI HELPER FUNCTIONS"
      ],
      "metadata": {
        "id": "gbdlQf-D6WCY"
      }
    },
    {
      "cell_type": "code",
      "source": [
        "## Create specialised processor in docAI\n",
        "def create_processor(project_id, location, processor_name, processor_type):\n",
        "    # setting the api endpoint\n",
        "    opts = ClientOptions(api_endpoint=f\"{location}-documentai.googleapis.com\")\n",
        "    client = documentai.DocumentProcessorServiceClient(client_options=opts)\n",
        "\n",
        "    # allocating processor to project ID and location\n",
        "    parent = client.common_location_path(project_id, location)\n",
        "    processor = client.create_processor(parent=parent,\n",
        "                                        processor=documentai.Processor(\n",
        "                                            display_name=processor_name,\n",
        "                                            type_=processor_type\n",
        "                                        ))\n",
        "    print(f\"Processor Name: {processor.name}\")\n",
        "    print(f\"Processor Display Name: {processor.display_name}\")\n",
        "    print(f\"Processor Type: {processor.type_}\")\n",
        "\n",
        "## Enable processor\n",
        "def enable_processor(project_id, location, processor_id):\n",
        "    # setting the api end point to EU\n",
        "    opts = ClientOptions(api_endpoint=f\"{location}-documentai.googleapis.com\")\n",
        "\n",
        "    client = documentai.DocumentProcessorServiceClient(client_options=opts)\n",
        "    processor_name = client.processor_path(project_id, location, processor_id)\n",
        "    request = documentai.EnableProcessorRequest(name=processor_name)\n",
        "\n",
        "    try:\n",
        "        # make processor request\n",
        "        operation = client.enable_processor(request=request) ## client.disable_processor / client.delete_processosr\n",
        "        print(operation.operation.name)\n",
        "        operation.result()\n",
        "    except FailedPrecondition as e:\n",
        "        # throws error if processor is already activated\n",
        "        print(e.message)\n",
        "\n",
        "## Print list of available processors\n",
        "def fetch_processor_types_sample(project_id, location):\n",
        "    # set api endpoint location to eu\n",
        "    opts = ClientOptions(api_endpoint=f\"{location}-documentai.googleapis.com\")\n",
        "\n",
        "    client = documentai.DocumentProcessorServiceClient(client_options=opts)\n",
        "\n",
        "    parent = client.common_location_path(project_id, location)\n",
        "\n",
        "    response = client.fetch_processor_types(parent=parent)\n",
        "\n",
        "    print(\"Processor types:\")\n",
        "    # Print the available processor types\n",
        "    for processor_type in response.processor_types:\n",
        "        if processor_type.allow_creation:\n",
        "            print(processor_type.type_)\n",
        "\n",
        "\n",
        "## Send the document for processing\n",
        "def send_processing_req(project_id, location, processor_id, file_path, mime_type, GCS_INPUT_URI):\n",
        "    \n",
        "    docai_client = documentai.DocumentProcessorServiceClient(\n",
        "        client_options = ClientOptions(api_endpoint=f'{location}-documentai.googleapis.com')\n",
        "    )\n",
        "\n",
        "    RESOURCE_NAME = docai_client.processor_path(project_id, location, processor_id)\n",
        "\n",
        "    # load file into memory\n",
        "    with open(file_path, 'rb') as image:\n",
        "        image_content = image.read()\n",
        "\n",
        "    raw_doc = documentai.RawDocument(content=GCS_INPUT_URI, mime_type=MIME_TYPE)\n",
        "    request = documentai.ProcessRequest(name=RESOURCE_NAME, raw_document=raw_doc)\n",
        "\n",
        "    result = docai_client.process_document(request=request)\n",
        "\n",
        "    document_object = result.document\n",
        "    print('Document processing complete')\n",
        "    print(document_object.text)\n",
        "\n",
        "\n",
        "    return(document_object.text)"
      ],
      "metadata": {
        "id": "Uh69_Thk91dW"
      },
      "execution_count": null,
      "outputs": []
    },
    {
      "cell_type": "code",
      "source": [
        "fetch_processor_types_sample(PROJECT_ID, LOCATION)"
      ],
      "metadata": {
        "colab": {
          "base_uri": "https://localhost:8080/"
        },
        "id": "Sl1rHv7U_Q05",
        "outputId": "8fdaddfa-af1b-440c-c959-0219ea125638"
      },
      "execution_count": null,
      "outputs": [
        {
          "output_type": "stream",
          "name": "stdout",
          "text": [
            "Processor types:\n",
            "INVOICE_PROCESSOR\n",
            "FORM_PARSER_PROCESSOR\n",
            "OCR_PROCESSOR\n",
            "FORM_W9_PROCESSOR\n",
            "EXPENSE_PROCESSOR\n",
            "US_DRIVER_LICENSE_PROCESSOR\n",
            "US_PASSPORT_PROCESSOR\n"
          ]
        }
      ]
    },
    {
      "cell_type": "code",
      "source": [
        "create_processor(PROJECT_ID, LOCATION, 'passportExtractor', 'US_PASSPORT_PROCESSOR')"
      ],
      "metadata": {
        "colab": {
          "base_uri": "https://localhost:8080/"
        },
        "id": "5E21pvV8_Uqp",
        "outputId": "6ec5e5a2-2768-47ad-90f8-2abf2d91bcc0"
      },
      "execution_count": null,
      "outputs": [
        {
          "output_type": "stream",
          "name": "stdout",
          "text": [
            "Processor Name: projects/621384936610/locations/eu/processors/7f978d52f8bf030\n",
            "Processor Display Name: passportExtractor\n",
            "Processor Type: US_PASSPORT_PROCESSOR\n"
          ]
        }
      ]
    },
    {
      "cell_type": "code",
      "source": [
        "enable_processor(PROJECT_ID, LOCATION, '7f978d52f8bf030')"
      ],
      "metadata": {
        "colab": {
          "base_uri": "https://localhost:8080/"
        },
        "id": "75PlTU5XBPc7",
        "outputId": "16ccfc50-9139-477e-c9ef-1cb3544e6748"
      },
      "execution_count": null,
      "outputs": [
        {
          "output_type": "stream",
          "name": "stdout",
          "text": [
            "Processor state cannot be changed to 'ENABLING' since it is 'ENABLED'.\n"
          ]
        }
      ]
    },
    {
      "cell_type": "code",
      "source": [
        "FILE_PATH = '/content/my_PASSPORT.pdf'\n",
        "PROCESSOR_ID = '7f978d52f8bf030'"
      ],
      "metadata": {
        "id": "oC0soXHhBqi8"
      },
      "execution_count": null,
      "outputs": []
    },
    {
      "cell_type": "code",
      "source": [
        "ans = send_processing_req(PROJECT_ID, LOCATION, PROCESSOR_ID, FILE_PATH, MIME_TYPE, GCS_INPUT_URI)"
      ],
      "metadata": {
        "id": "_L_24PE8GXXf"
      },
      "execution_count": null,
      "outputs": []
    },
    {
      "cell_type": "code",
      "source": [
        "ans = ans.split(\"\\n\")"
      ],
      "metadata": {
        "id": "x43jmk3NOXXh"
      },
      "execution_count": null,
      "outputs": []
    },
    {
      "cell_type": "code",
      "source": [
        "res = ans"
      ],
      "metadata": {
        "id": "xEtkk8YyOgFn"
      },
      "execution_count": null,
      "outputs": []
    },
    {
      "cell_type": "code",
      "source": [
        "for item in res:\n",
        "    print(item, res.index(item))"
      ],
      "metadata": {
        "id": "YUgOVQA5UGnT"
      },
      "execution_count": null,
      "outputs": []
    },
    {
      "cell_type": "code",
      "source": [
        "def format_documentai_output(doc_object):\n",
        "    keys = ['CountryOfOrigin', 'Type', 'Surname', 'GivenName', 'FullName', 'CountryCode', 'Passport No', 'Sex', 'DataOfBirth', 'PlaceOfBirth', 'PlaceOfIssue', 'DateOfIssue', 'DateOfExpiry']\n",
        "    vals = [doc_object[0], doc_object[2], doc_object[4], doc_object[10], doc_object[29],doc_object[6], doc_object[8],doc_object[15],doc_object[16],doc_object[18],doc_object[21],doc_object[24],doc_object[25]]\n",
        "\n",
        "    formatted_results = {}\n",
        "    for item in range(0, 13):\n",
        "        formatted_results[keys[int(item)]] = vals[int(item)]\n",
        "\n",
        "    return formatted_results    "
      ],
      "metadata": {
        "id": "AoZ9MSnAOgz7"
      },
      "execution_count": null,
      "outputs": []
    },
    {
      "cell_type": "code",
      "source": [
        "letssee = format_documentai_output(ans)"
      ],
      "metadata": {
        "id": "aGkT0CI_VkC1"
      },
      "execution_count": null,
      "outputs": []
    },
    {
      "cell_type": "code",
      "source": [
        "letssee"
      ],
      "metadata": {
        "id": "-b_KH0llVpcP"
      },
      "execution_count": null,
      "outputs": []
    }
  ]
}