{
  "nbformat": 4,
  "nbformat_minor": 0,
  "metadata": {
    "colab": {
      "provenance": [],
      "authorship_tag": "ABX9TyOQG+HUNZc4Pd6CSOG65wOW",
      "include_colab_link": true
    },
    "kernelspec": {
      "name": "python3",
      "display_name": "Python 3"
    },
    "language_info": {
      "name": "python"
    }
  },
  "cells": [
    {
      "cell_type": "markdown",
      "metadata": {
        "id": "view-in-github",
        "colab_type": "text"
      },
      "source": [
        "<a href=\"https://colab.research.google.com/github/sammyamajumdar/GoogleCloudPlatform-tests/blob/main/write_BQ.ipynb\" target=\"_parent\"><img src=\"https://colab.research.google.com/assets/colab-badge.svg\" alt=\"Open In Colab\"/></a>"
      ]
    },
    {
      "cell_type": "code",
      "execution_count": 1,
      "metadata": {
        "colab": {
          "base_uri": "https://localhost:8080/"
        },
        "id": "510pHcsRCm1C",
        "outputId": "450a497e-5c3e-48bc-c088-00aa93f4844c"
      },
      "outputs": [
        {
          "output_type": "stream",
          "name": "stdout",
          "text": [
            "Looking in indexes: https://pypi.org/simple, https://us-python.pkg.dev/colab-wheels/public/simple/\n",
            "Requirement already satisfied: google-cloud-bigquery in /usr/local/lib/python3.7/dist-packages (3.3.6)\n",
            "Requirement already satisfied: grpcio<2.0dev,>=1.47.0 in /usr/local/lib/python3.7/dist-packages (from google-cloud-bigquery) (1.50.0)\n",
            "Requirement already satisfied: google-resumable-media<3.0dev,>=0.6.0 in /usr/local/lib/python3.7/dist-packages (from google-cloud-bigquery) (2.4.0)\n",
            "Requirement already satisfied: python-dateutil<3.0dev,>=2.7.2 in /usr/local/lib/python3.7/dist-packages (from google-cloud-bigquery) (2.8.2)\n",
            "Requirement already satisfied: requests<3.0.0dev,>=2.21.0 in /usr/local/lib/python3.7/dist-packages (from google-cloud-bigquery) (2.23.0)\n",
            "Requirement already satisfied: proto-plus<2.0.0dev,>=1.22.0 in /usr/local/lib/python3.7/dist-packages (from google-cloud-bigquery) (1.22.1)\n",
            "Requirement already satisfied: google-cloud-bigquery-storage<3.0.0dev,>=2.0.0 in /usr/local/lib/python3.7/dist-packages (from google-cloud-bigquery) (2.16.2)\n",
            "Requirement already satisfied: packaging<22.0.0dev,>=14.3 in /usr/local/lib/python3.7/dist-packages (from google-cloud-bigquery) (21.3)\n",
            "Requirement already satisfied: google-cloud-core<3.0.0dev,>=1.4.1 in /usr/local/lib/python3.7/dist-packages (from google-cloud-bigquery) (2.3.2)\n",
            "Requirement already satisfied: pyarrow<11.0dev,>=3.0.0 in /usr/local/lib/python3.7/dist-packages (from google-cloud-bigquery) (6.0.1)\n",
            "Requirement already satisfied: google-api-core[grpc]!=2.0.*,!=2.1.*,!=2.2.*,!=2.3.0,<3.0.0dev,>=1.31.5 in /usr/local/lib/python3.7/dist-packages (from google-cloud-bigquery) (2.8.2)\n",
            "Requirement already satisfied: protobuf!=3.20.0,!=3.20.1,!=4.21.0,!=4.21.1,!=4.21.2,!=4.21.3,!=4.21.4,!=4.21.5,<5.0.0dev,>=3.19.5 in /usr/local/lib/python3.7/dist-packages (from google-cloud-bigquery) (3.19.6)\n",
            "Requirement already satisfied: googleapis-common-protos<2.0dev,>=1.56.2 in /usr/local/lib/python3.7/dist-packages (from google-api-core[grpc]!=2.0.*,!=2.1.*,!=2.2.*,!=2.3.0,<3.0.0dev,>=1.31.5->google-cloud-bigquery) (1.56.4)\n",
            "Requirement already satisfied: google-auth<3.0dev,>=1.25.0 in /usr/local/lib/python3.7/dist-packages (from google-api-core[grpc]!=2.0.*,!=2.1.*,!=2.2.*,!=2.3.0,<3.0.0dev,>=1.31.5->google-cloud-bigquery) (2.14.1)\n",
            "Requirement already satisfied: grpcio-status<2.0dev,>=1.33.2 in /usr/local/lib/python3.7/dist-packages (from google-api-core[grpc]!=2.0.*,!=2.1.*,!=2.2.*,!=2.3.0,<3.0.0dev,>=1.31.5->google-cloud-bigquery) (1.48.2)\n",
            "Requirement already satisfied: cachetools<6.0,>=2.0.0 in /usr/local/lib/python3.7/dist-packages (from google-auth<3.0dev,>=1.25.0->google-api-core[grpc]!=2.0.*,!=2.1.*,!=2.2.*,!=2.3.0,<3.0.0dev,>=1.31.5->google-cloud-bigquery) (5.2.0)\n",
            "Requirement already satisfied: pyasn1-modules>=0.2.1 in /usr/local/lib/python3.7/dist-packages (from google-auth<3.0dev,>=1.25.0->google-api-core[grpc]!=2.0.*,!=2.1.*,!=2.2.*,!=2.3.0,<3.0.0dev,>=1.31.5->google-cloud-bigquery) (0.2.8)\n",
            "Requirement already satisfied: six>=1.9.0 in /usr/local/lib/python3.7/dist-packages (from google-auth<3.0dev,>=1.25.0->google-api-core[grpc]!=2.0.*,!=2.1.*,!=2.2.*,!=2.3.0,<3.0.0dev,>=1.31.5->google-cloud-bigquery) (1.15.0)\n",
            "Requirement already satisfied: rsa<5,>=3.1.4 in /usr/local/lib/python3.7/dist-packages (from google-auth<3.0dev,>=1.25.0->google-api-core[grpc]!=2.0.*,!=2.1.*,!=2.2.*,!=2.3.0,<3.0.0dev,>=1.31.5->google-cloud-bigquery) (4.9)\n",
            "Requirement already satisfied: google-crc32c<2.0dev,>=1.0 in /usr/local/lib/python3.7/dist-packages (from google-resumable-media<3.0dev,>=0.6.0->google-cloud-bigquery) (1.5.0)\n",
            "Requirement already satisfied: pyparsing!=3.0.5,>=2.0.2 in /usr/local/lib/python3.7/dist-packages (from packaging<22.0.0dev,>=14.3->google-cloud-bigquery) (3.0.9)\n",
            "Requirement already satisfied: numpy>=1.16.6 in /usr/local/lib/python3.7/dist-packages (from pyarrow<11.0dev,>=3.0.0->google-cloud-bigquery) (1.21.6)\n",
            "Requirement already satisfied: pyasn1<0.5.0,>=0.4.6 in /usr/local/lib/python3.7/dist-packages (from pyasn1-modules>=0.2.1->google-auth<3.0dev,>=1.25.0->google-api-core[grpc]!=2.0.*,!=2.1.*,!=2.2.*,!=2.3.0,<3.0.0dev,>=1.31.5->google-cloud-bigquery) (0.4.8)\n",
            "Requirement already satisfied: certifi>=2017.4.17 in /usr/local/lib/python3.7/dist-packages (from requests<3.0.0dev,>=2.21.0->google-cloud-bigquery) (2022.9.24)\n",
            "Requirement already satisfied: idna<3,>=2.5 in /usr/local/lib/python3.7/dist-packages (from requests<3.0.0dev,>=2.21.0->google-cloud-bigquery) (2.10)\n",
            "Requirement already satisfied: urllib3!=1.25.0,!=1.25.1,<1.26,>=1.21.1 in /usr/local/lib/python3.7/dist-packages (from requests<3.0.0dev,>=2.21.0->google-cloud-bigquery) (1.24.3)\n",
            "Requirement already satisfied: chardet<4,>=3.0.2 in /usr/local/lib/python3.7/dist-packages (from requests<3.0.0dev,>=2.21.0->google-cloud-bigquery) (3.0.4)\n"
          ]
        }
      ],
      "source": [
        "!pip install --upgrade google-cloud-bigquery"
      ]
    },
    {
      "cell_type": "code",
      "source": [
        "from google.cloud import bigquery as bq"
      ],
      "metadata": {
        "id": "QY_8kpypD0JK"
      },
      "execution_count": 3,
      "outputs": []
    },
    {
      "cell_type": "code",
      "source": [
        "# Use the autodetect schema to load json files into BigQuery\n",
        "client = bq.Client()\n",
        "\n",
        "TABLE_ID = \"your-project.your_dataset.your_table_name\"\n",
        "\n",
        "# Set the encryption key to use for the destination.\n",
        "# Replace this key with a key you have created in KMS.\n",
        "kms_key_name = \"projects/{}/locations/{}/keyRings/{}/cryptoKeys/{}\".format(\n",
        "    \"cloud-samples-tests\", \"us\", \"test\", \"test\"\n",
        ")\n",
        "\n",
        "try:\n",
        "    client.get_table(TABLE_ID) \n",
        "    job_config = bq.LoadJobConfig(\n",
        "        autodetect=True, source_format=bq.SourceFormat.NEWLINE_DELIMITED_JSON\n",
        "    )\n",
        "\n",
        "    uri = \"link to json output in GCS bucket\"\n",
        "\n",
        "    # Make an API request.\n",
        "    load_job = client.load_table_from_uri(\n",
        "        uri, TABLE_ID, job_config=job_config\n",
        "        )  \n",
        "    \n",
        "    load_job.result()  \n",
        "except: \n",
        "    print('Table does not exist!')\n",
        "\n",
        "destination_table = client.get_table(TABLE_ID)\n",
        "print(\"Loaded {} rows.\".format(destination_table.num_rows))\n",
        "print('Operation Complete!')"
      ],
      "metadata": {
        "id": "YvGjswHSHzFm"
      },
      "execution_count": null,
      "outputs": []
    }
  ]
}